{
 "cells": [
  {
   "cell_type": "code",
   "execution_count": 2,
   "metadata": {},
   "outputs": [],
   "source": [
    "\n",
    "user1 = {             \n",
    "    'nome':'user1',\n",
    "    'idade':'20'\n",
    "}\n",
    "\n",
    "user2 = {\n",
    "    'nome':'user2',\n",
    "    'idade':'30'\n",
    "}\n",
    "\n",
    "user3 = {\n",
    "    'nome':'user3',\n",
    "    'idade':'25'\n",
    "}\n",
    "\n",
    "\n",
    "users = [user1, user2, user3] "
   ]
  },
  {
   "cell_type": "code",
   "execution_count": 3,
   "metadata": {},
   "outputs": [
    {
     "data": {
      "text/plain": [
       "[{'nome': 'user1', 'idade': '20'},\n",
       " {'nome': 'user2', 'idade': '30'},\n",
       " {'nome': 'user3', 'idade': '25'}]"
      ]
     },
     "execution_count": 3,
     "metadata": {},
     "output_type": "execute_result"
    }
   ],
   "source": [
    "users"
   ]
  },
  {
   "cell_type": "code",
   "execution_count": 4,
   "metadata": {},
   "outputs": [],
   "source": [
    "\n",
    "elon_musk = {\n",
    "    'nome':'elon',\n",
    "    'empresas': ['tesla', 'spacex', 'solarcity', 'boring company']\n",
    "}"
   ]
  },
  {
   "cell_type": "code",
   "execution_count": 7,
   "metadata": {},
   "outputs": [
    {
     "data": {
      "text/plain": [
       "'elon'"
      ]
     },
     "execution_count": 7,
     "metadata": {},
     "output_type": "execute_result"
    }
   ],
   "source": [
    "elon_musk['nome']"
   ]
  }
 ],
 "metadata": {
  "kernelspec": {
   "display_name": "Python 3",
   "language": "python",
   "name": "python3"
  },
  "language_info": {
   "codemirror_mode": {
    "name": "ipython",
    "version": 3
   },
   "file_extension": ".py",
   "mimetype": "text/x-python",
   "name": "python",
   "nbconvert_exporter": "python",
   "pygments_lexer": "ipython3",
   "version": "3.6.5"
  }
 },
 "nbformat": 4,
 "nbformat_minor": 2
}
