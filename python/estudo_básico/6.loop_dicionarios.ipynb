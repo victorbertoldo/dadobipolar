{
 "cells": [
  {
   "cell_type": "markdown",
   "metadata": {},
   "source": [
    "## Dicionários e Loops"
   ]
  },
  {
   "cell_type": "code",
   "execution_count": 1,
   "metadata": {},
   "outputs": [
    {
     "name": "stdout",
     "output_type": "stream",
     "text": [
      "Chave : nome\n",
      "Valor : Jão\n",
      "Chave : idade\n",
      "Valor : 24\n",
      "Chave : sexo\n",
      "Valor : Masculino\n"
     ]
    }
   ],
   "source": [
    "dic_teste = {\n",
    "    'nome'  : 'Jão',\n",
    "    'idade' : '24',\n",
    "    'sexo'  : 'Masculino'\n",
    "}\n",
    "#dic_teste\n",
    "\n",
    "for chave, valor in dic_teste.items():\n",
    "    print(f\"Chave : {chave}\")\n",
    "    print(f\"Valor : {valor}\")"
   ]
  },
  {
   "cell_type": "code",
   "execution_count": 2,
   "metadata": {},
   "outputs": [
    {
     "name": "stdout",
     "output_type": "stream",
     "text": [
      "Obra: dark knight returns\n",
      "Autor: frank miller\n",
      "Obra: v for vendetta\n",
      "Autor: alan more\n",
      "Obra: civil war\n",
      "Autor: mark millar\n"
     ]
    }
   ],
   "source": [
    "quadrinhos = {\n",
    "    'frank miller': 'dark knight returns',\n",
    "    'alan more': 'v for vendetta',\n",
    "    'mark millar': 'civil war'\n",
    "}\n",
    "\n",
    "for nome_autor, nome_obra in quadrinhos.items():\n",
    "    print(f\"Obra: {nome_obra}\")\n",
    "    print(f\"Autor: {nome_autor}\")"
   ]
  },
  {
   "cell_type": "code",
   "execution_count": 3,
   "metadata": {},
   "outputs": [
    {
     "name": "stdout",
     "output_type": "stream",
     "text": [
      "Autor: ('frank miller', 'dark knight returns')\n",
      "Autor: ('alan more', 'v for vendetta')\n",
      "Autor: ('mark millar', 'civil war')\n",
      "Obra: ('frank miller', 'dark knight returns')\n",
      "Obra: ('alan more', 'v for vendetta')\n",
      "Obra: ('mark millar', 'civil war')\n"
     ]
    }
   ],
   "source": [
    "quadrinhos = {\n",
    "    'frank miller': 'dark knight returns',\n",
    "    'alan more': 'v for vendetta',\n",
    "    'mark millar': 'civil war'\n",
    "}\n",
    "\n",
    "for nome_autor in quadrinhos.items():\n",
    "    print(f\"Autor: {nome_autor}\")\n",
    "    \n",
    "for nome_obra in quadrinhos.items():\n",
    "    print(f\"Obra: {nome_obra}\")    "
   ]
  },
  {
   "cell_type": "code",
   "execution_count": null,
   "metadata": {},
   "outputs": [],
   "source": []
  }
 ],
 "metadata": {
  "kernelspec": {
   "display_name": "Python 3",
   "language": "python",
   "name": "python3"
  },
  "language_info": {
   "codemirror_mode": {
    "name": "ipython",
    "version": 3
   },
   "file_extension": ".py",
   "mimetype": "text/x-python",
   "name": "python",
   "nbconvert_exporter": "python",
   "pygments_lexer": "ipython3",
   "version": "3.6.5"
  }
 },
 "nbformat": 4,
 "nbformat_minor": 2
}
