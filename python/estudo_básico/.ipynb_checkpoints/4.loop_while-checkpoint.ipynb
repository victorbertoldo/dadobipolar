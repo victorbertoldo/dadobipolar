{
 "cells": [
  {
   "cell_type": "markdown",
   "metadata": {},
   "source": [
    "## Usando o While"
   ]
  },
  {
   "cell_type": "code",
   "execution_count": 2,
   "metadata": {},
   "outputs": [
    {
     "name": "stdout",
     "output_type": "stream",
     "text": [
      "0\n",
      "1\n",
      "2\n",
      "3\n",
      "4\n",
      "5\n",
      "6\n",
      "7\n",
      "8\n",
      "9\n",
      "10\n"
     ]
    }
   ],
   "source": [
    "numero = 0 #iniciando a variavel com valor inicial\n",
    "\n",
    "while numero <= 10: # enquanto o numero for menor ou igual a 10\n",
    "    print(numero) #exibir o numero\n",
    "    numero += 1 #incrementar +1"
   ]
  },
  {
   "cell_type": "markdown",
   "metadata": {},
   "source": [
    "### Finalizando o loop com o input"
   ]
  },
  {
   "cell_type": "code",
   "execution_count": 3,
   "metadata": {},
   "outputs": [
    {
     "name": "stdout",
     "output_type": "stream",
     "text": [
      "Valor errado! Tente novamente\n",
      "Valor errado! Tente novamente\n",
      "O valor está correto!\n"
     ]
    }
   ],
   "source": [
    "soma = 0 # valor inicio\n",
    "\n",
    "while soma != 9: # enquanto for diferente de 4\n",
    "    soma = int(input('Quanto é 4 + 5? ')) # recebendo o input\n",
    "    if soma == 9:\n",
    "        print(\"O valor está correto!\")\n",
    "    else:\n",
    "        print(\"Valor errado! Tente novamente\")\n",
    "        "
   ]
  },
  {
   "cell_type": "markdown",
   "metadata": {},
   "source": [
    "### Usando Break"
   ]
  },
  {
   "cell_type": "code",
   "execution_count": 4,
   "metadata": {},
   "outputs": [
    {
     "name": "stdout",
     "output_type": "stream",
     "text": [
      "Errado!\n",
      "Acertou!\n"
     ]
    }
   ],
   "source": [
    "soma = 0 #valor inicio\n",
    "\n",
    "while soma !=6: \n",
    "    soma = int(input(\"Quanto é 3 x 2? \")) \n",
    "    if soma == 6:\n",
    "        print(\"Acertou!\")\n",
    "        break\n",
    "    else:\n",
    "        print(\"Errado!\")\n",
    "            "
   ]
  },
  {
   "cell_type": "code",
   "execution_count": 5,
   "metadata": {},
   "outputs": [
    {
     "name": "stdout",
     "output_type": "stream",
     "text": [
      "1\n",
      "3\n",
      "5\n",
      "7\n",
      "9\n",
      "11\n",
      "13\n",
      "15\n",
      "17\n",
      "19\n",
      "21\n",
      "23\n",
      "25\n",
      "27\n",
      "29\n"
     ]
    }
   ],
   "source": [
    "# gerando uma lista de numeros impares\n",
    "\n",
    "numero = 0\n",
    "\n",
    "while numero <30:\n",
    "    numero += 1 # incrementar +1\n",
    "    \n",
    "    if numero % 2 ==0: #se o resto de num for igual a zero\n",
    "        continue # pule esse numero\n",
    "    else:\n",
    "        print(numero)"
   ]
  },
  {
   "cell_type": "code",
   "execution_count": null,
   "metadata": {},
   "outputs": [],
   "source": []
  }
 ],
 "metadata": {
  "kernelspec": {
   "display_name": "Python 3",
   "language": "python",
   "name": "python3"
  },
  "language_info": {
   "codemirror_mode": {
    "name": "ipython",
    "version": 3
   },
   "file_extension": ".py",
   "mimetype": "text/x-python",
   "name": "python",
   "nbconvert_exporter": "python",
   "pygments_lexer": "ipython3",
   "version": "3.6.5"
  }
 },
 "nbformat": 4,
 "nbformat_minor": 2
}
