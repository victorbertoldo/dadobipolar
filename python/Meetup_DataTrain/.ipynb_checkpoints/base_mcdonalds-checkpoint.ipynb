{
 "cells": [
  {
   "cell_type": "markdown",
   "metadata": {},
   "source": [
    "## Base CSV "
   ]
  },
  {
   "cell_type": "code",
   "execution_count": 2,
   "metadata": {},
   "outputs": [],
   "source": [
    "import pandas as pd"
   ]
  },
  {
   "cell_type": "code",
   "execution_count": 3,
   "metadata": {},
   "outputs": [
    {
     "data": {
      "text/html": [
       "<div>\n",
       "<style scoped>\n",
       "    .dataframe tbody tr th:only-of-type {\n",
       "        vertical-align: middle;\n",
       "    }\n",
       "\n",
       "    .dataframe tbody tr th {\n",
       "        vertical-align: top;\n",
       "    }\n",
       "\n",
       "    .dataframe thead th {\n",
       "        text-align: right;\n",
       "    }\n",
       "</style>\n",
       "<table border=\"1\" class=\"dataframe\">\n",
       "  <thead>\n",
       "    <tr style=\"text-align: right;\">\n",
       "      <th></th>\n",
       "      <th>PrimeiroNome</th>\n",
       "      <th>SobreNome</th>\n",
       "      <th>Cidade</th>\n",
       "      <th>Data</th>\n",
       "      <th>QtdComeu</th>\n",
       "    </tr>\n",
       "  </thead>\n",
       "  <tbody>\n",
       "    <tr>\n",
       "      <th>0</th>\n",
       "      <td>Jimmy</td>\n",
       "      <td>McKinley</td>\n",
       "      <td>Saint Paul</td>\n",
       "      <td>26-10-2017</td>\n",
       "      <td>4</td>\n",
       "    </tr>\n",
       "    <tr>\n",
       "      <th>1</th>\n",
       "      <td>William</td>\n",
       "      <td>McKinley</td>\n",
       "      <td>Santa Fe</td>\n",
       "      <td>23-08-2018</td>\n",
       "      <td>35</td>\n",
       "    </tr>\n",
       "    <tr>\n",
       "      <th>2</th>\n",
       "      <td>Martin</td>\n",
       "      <td>Roosevelt</td>\n",
       "      <td>Charleston</td>\n",
       "      <td>08-03-2018</td>\n",
       "      <td>100</td>\n",
       "    </tr>\n",
       "    <tr>\n",
       "      <th>3</th>\n",
       "      <td>Warren</td>\n",
       "      <td>Hayes</td>\n",
       "      <td>Harrisburg</td>\n",
       "      <td>21-04-2017</td>\n",
       "      <td>0</td>\n",
       "    </tr>\n",
       "    <tr>\n",
       "      <th>4</th>\n",
       "      <td>Ulysses</td>\n",
       "      <td>Roosevelt</td>\n",
       "      <td>Des Moines</td>\n",
       "      <td>30-10-2016</td>\n",
       "      <td>81</td>\n",
       "    </tr>\n",
       "  </tbody>\n",
       "</table>\n",
       "</div>"
      ],
      "text/plain": [
       "  PrimeiroNome  SobreNome      Cidade        Data  QtdComeu\n",
       "0        Jimmy   McKinley  Saint Paul  26-10-2017         4\n",
       "1      William   McKinley    Santa Fe  23-08-2018        35\n",
       "2       Martin  Roosevelt  Charleston  08-03-2018       100\n",
       "3       Warren      Hayes  Harrisburg  21-04-2017         0\n",
       "4      Ulysses  Roosevelt  Des Moines  30-10-2016        81"
      ]
     },
     "execution_count": 3,
     "metadata": {},
     "output_type": "execute_result"
    }
   ],
   "source": [
    "base = pd.read_csv('D:/talend/TOS_DI-20190620_1446-V7.2.1/workspace/qtd_vezes_foi_ao_mcdonalds.csv',sep=';')\n",
    "base.head()"
   ]
  },
  {
   "cell_type": "code",
   "execution_count": 7,
   "metadata": {},
   "outputs": [
    {
     "data": {
      "text/plain": [
       "PrimeiroNome    10000000\n",
       "SobreNome       10000000\n",
       "Cidade          10000000\n",
       "Data            10000000\n",
       "QtdComeu        10000000\n",
       "dtype: int64"
      ]
     },
     "execution_count": 7,
     "metadata": {},
     "output_type": "execute_result"
    }
   ],
   "source": [
    "base.count()"
   ]
  },
  {
   "cell_type": "code",
   "execution_count": null,
   "metadata": {},
   "outputs": [],
   "source": []
  }
 ],
 "metadata": {
  "kernelspec": {
   "display_name": "Python 3",
   "language": "python",
   "name": "python3"
  },
  "language_info": {
   "codemirror_mode": {
    "name": "ipython",
    "version": 3
   },
   "file_extension": ".py",
   "mimetype": "text/x-python",
   "name": "python",
   "nbconvert_exporter": "python",
   "pygments_lexer": "ipython3",
   "version": "3.6.5"
  }
 },
 "nbformat": 4,
 "nbformat_minor": 2
}
