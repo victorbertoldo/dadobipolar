{
 "cells": [
  {
   "cell_type": "markdown",
   "metadata": {},
   "source": [
    "# MongoDB com Python"
   ]
  },
  {
   "cell_type": "code",
   "execution_count": null,
   "metadata": {},
   "outputs": [],
   "source": [
    "!pip install pymongo"
   ]
  },
  {
   "cell_type": "code",
   "execution_count": null,
   "metadata": {},
   "outputs": [],
   "source": [
    "from pymongo import MongoClient"
   ]
  },
  {
   "cell_type": "code",
   "execution_count": null,
   "metadata": {},
   "outputs": [],
   "source": [
    "conn = MongoClient('10.0.1.245',27017)"
   ]
  },
  {
   "cell_type": "code",
   "execution_count": null,
   "metadata": {},
   "outputs": [],
   "source": [
    "conn.list_database_names()"
   ]
  },
  {
   "cell_type": "code",
   "execution_count": null,
   "metadata": {},
   "outputs": [],
   "source": [
    "db = conn.empresa\n",
    "db.name"
   ]
  },
  {
   "cell_type": "code",
   "execution_count": null,
   "metadata": {},
   "outputs": [],
   "source": [
    "db.list_collection_names()"
   ]
  },
  {
   "cell_type": "code",
   "execution_count": null,
   "metadata": {},
   "outputs": [],
   "source": [
    "produto1 =   {  \"item\": \"Celular A8\",\n",
    "                \"status\": \"Ativo\",\n",
    "                \"vendas\": { \"2017\": 1500, \"2018\": 1765, \"classificacao\": \"Excelente\" },\n",
    "                \"valor\": 1800.90,\n",
    "                \"estoque\": [ { \"galpao\": \"A\", \"qtd\": 34 } ] }"
   ]
  },
  {
   "cell_type": "code",
   "execution_count": null,
   "metadata": {},
   "outputs": [],
   "source": [
    "type(produto1)"
   ]
  },
  {
   "cell_type": "code",
   "execution_count": null,
   "metadata": {},
   "outputs": [],
   "source": [
    "coll_exemplo = db.produtos\n",
    "coll_exemplo"
   ]
  },
  {
   "cell_type": "code",
   "execution_count": null,
   "metadata": {},
   "outputs": [],
   "source": [
    "coll_exemplo.find_one({})\n",
    "\n",
    "print(produto1)"
   ]
  },
  {
   "cell_type": "code",
   "execution_count": null,
   "metadata": {},
   "outputs": [],
   "source": [
    "coll_exemplo.insert_one(produto1)"
   ]
  },
  {
   "cell_type": "code",
   "execution_count": 24,
   "metadata": {},
   "outputs": [
    {
     "name": "stdout",
     "output_type": "stream",
     "text": [
      "Collection(Database(MongoClient(host=['10.0.1.245:27017'], document_class=dict, tz_aware=False, connect=True), 'empresa'), 'produtos')\n"
     ]
    }
   ],
   "source": [
    "print(coll_exemplo)"
   ]
  },
  {
   "cell_type": "code",
   "execution_count": 25,
   "metadata": {},
   "outputs": [
    {
     "data": {
      "text/plain": [
       "{'_id': ObjectId('5e7219ed51047cdcb0cedeee'),\n",
       " 'item': 'Celular A8',\n",
       " 'status': 'Ativo',\n",
       " 'vendas': {'2017': 1500, '2018': 1765, 'classificacao': 'Excelente'},\n",
       " 'valor': 1800.9,\n",
       " 'estoque': [{'galpao': 'A', 'qtd': 34}]}"
      ]
     },
     "execution_count": 25,
     "metadata": {},
     "output_type": "execute_result"
    }
   ],
   "source": [
    "coll_exemplo.find_one({})"
   ]
  },
  {
   "cell_type": "code",
   "execution_count": 26,
   "metadata": {},
   "outputs": [
    {
     "data": {
      "text/plain": [
       "<pymongo.results.InsertOneResult at 0x2ccc0276d48>"
      ]
     },
     "execution_count": 26,
     "metadata": {},
     "output_type": "execute_result"
    }
   ],
   "source": [
    "produto2 =    {     \"item\": \"Notebook Pan\",\n",
    "                    \"status\": \"Ativo\", \n",
    "                    \"vendas\": { \"2017\": 30, \"2018\": 50, \"classificacao\": \"Bom\" },\n",
    "                    \"valor\": 2560.00,\n",
    "                    \"estoque\": [ { \"galpao\": \"C\", \"qtd\": 15 } ] }\n",
    "\n",
    "coll_exemplo.insert_one(produto2)"
   ]
  },
  {
   "cell_type": "code",
   "execution_count": 28,
   "metadata": {},
   "outputs": [
    {
     "data": {
      "text/plain": [
       "<pymongo.cursor.Cursor at 0x2ccc03525f8>"
      ]
     },
     "execution_count": 28,
     "metadata": {},
     "output_type": "execute_result"
    }
   ],
   "source": [
    "coll_exemplo.find()"
   ]
  },
  {
   "cell_type": "code",
   "execution_count": 29,
   "metadata": {},
   "outputs": [
    {
     "data": {
      "text/plain": [
       "pymongo.cursor.Cursor"
      ]
     },
     "execution_count": 29,
     "metadata": {},
     "output_type": "execute_result"
    }
   ],
   "source": [
    "documentos = coll_exemplo.find()\n",
    "type(documentos)"
   ]
  },
  {
   "cell_type": "code",
   "execution_count": 30,
   "metadata": {},
   "outputs": [
    {
     "name": "stdout",
     "output_type": "stream",
     "text": [
      "{'_id': ObjectId('5e7219ed51047cdcb0cedeee'), 'item': 'Celular A8', 'status': 'Ativo', 'vendas': {'2017': 1500, '2018': 1765, 'classificacao': 'Excelente'}, 'valor': 1800.9, 'estoque': [{'galpao': 'A', 'qtd': 34}]}\n",
      "{'_id': ObjectId('5e721a7d51047cdcb0cedeef'), 'item': 'Notebook Pan', 'status': 'Ativo', 'vendas': {'2017': 30, '2018': 50, 'classificacao': 'Bom'}, 'valor': 2560.0, 'estoque': [{'galpao': 'C', 'qtd': 15}]}\n"
     ]
    }
   ],
   "source": [
    "for doc in coll_exemplo.find():\n",
    "    print(doc)"
   ]
  },
  {
   "cell_type": "code",
   "execution_count": 31,
   "metadata": {},
   "outputs": [],
   "source": [
    "aluno = { \n",
    "            \"nome\" : \"João Nunes\",\n",
    "            \"notas\" : [9.6, 8.9, 10.0] \n",
    "        }"
   ]
  },
  {
   "cell_type": "code",
   "execution_count": 32,
   "metadata": {},
   "outputs": [
    {
     "data": {
      "text/plain": [
       "<pymongo.results.InsertOneResult at 0x2ccc0337a48>"
      ]
     },
     "execution_count": 32,
     "metadata": {},
     "output_type": "execute_result"
    }
   ],
   "source": [
    "db.estudantes.insert_one(aluno)"
   ]
  },
  {
   "cell_type": "code",
   "execution_count": 33,
   "metadata": {},
   "outputs": [],
   "source": [
    "colecao = db['estudantes']"
   ]
  },
  {
   "cell_type": "code",
   "execution_count": 34,
   "metadata": {},
   "outputs": [
    {
     "data": {
      "text/plain": [
       "pymongo.collection.Collection"
      ]
     },
     "execution_count": 34,
     "metadata": {},
     "output_type": "execute_result"
    }
   ],
   "source": [
    "type(colecao)"
   ]
  },
  {
   "cell_type": "code",
   "execution_count": 35,
   "metadata": {},
   "outputs": [
    {
     "data": {
      "text/plain": [
       "1"
      ]
     },
     "execution_count": 35,
     "metadata": {},
     "output_type": "execute_result"
    }
   ],
   "source": [
    "colecao.estimated_document_count()"
   ]
  },
  {
   "cell_type": "code",
   "execution_count": 36,
   "metadata": {},
   "outputs": [
    {
     "data": {
      "text/plain": [
       "{'_id': ObjectId('5e721cec51047cdcb0cedef0'),\n",
       " 'nome': 'João Nunes',\n",
       " 'notas': [9.6, 8.9, 10.0]}"
      ]
     },
     "execution_count": 36,
     "metadata": {},
     "output_type": "execute_result"
    }
   ],
   "source": [
    "colecao.find_one()"
   ]
  },
  {
   "cell_type": "code",
   "execution_count": 37,
   "metadata": {},
   "outputs": [
    {
     "name": "stdout",
     "output_type": "stream",
     "text": [
      "{'_id': ObjectId('5e721cec51047cdcb0cedef0'), 'nome': 'João Nunes', 'notas': [9.6, 8.9, 10.0]}\n"
     ]
    }
   ],
   "source": [
    "for i in colecao.find():\n",
    "    print(i)"
   ]
  },
  {
   "cell_type": "code",
   "execution_count": null,
   "metadata": {},
   "outputs": [],
   "source": []
  }
 ],
 "metadata": {
  "kernelspec": {
   "display_name": "Python 3",
   "language": "python",
   "name": "python3"
  },
  "language_info": {
   "codemirror_mode": {
    "name": "ipython",
    "version": 3
   },
   "file_extension": ".py",
   "mimetype": "text/x-python",
   "name": "python",
   "nbconvert_exporter": "python",
   "pygments_lexer": "ipython3",
   "version": "3.6.5"
  }
 },
 "nbformat": 4,
 "nbformat_minor": 2
}
